{
 "cells": [
  {
   "cell_type": "code",
   "execution_count": 1,
   "metadata": {},
   "outputs": [
    {
     "name": "stdout",
     "output_type": "stream",
     "text": [
      "What is your start date? Please format as YYYY-MM-DD and insert a date that is after 2011-02-06.\n"
     ]
    },
    {
     "name": "stdin",
     "output_type": "stream",
     "text": [
      " 2019-12-01\n"
     ]
    },
    {
     "name": "stdout",
     "output_type": "stream",
     "text": [
      "What is your end date? Please format as YYYY-MM-DD.\n"
     ]
    },
    {
     "name": "stdin",
     "output_type": "stream",
     "text": [
      " 2020-05-10\n"
     ]
    },
    {
     "name": "stdout",
     "output_type": "stream",
     "text": [
      "What types of books would you like? Please indicate fiction or non-fiction\n"
     ]
    },
    {
     "name": "stdin",
     "output_type": "stream",
     "text": [
      " fiction\n"
     ]
    },
    {
     "name": "stdout",
     "output_type": "stream",
     "text": [
      "How many recommendations would you like? "
     ]
    },
    {
     "name": "stdin",
     "output_type": "stream",
     "text": [
      " 5\n"
     ]
    }
   ],
   "source": [
    "from pynytimes import NYTAPI\n",
    "import pyinputplus as pyip\n",
    "import json\n",
    "import pprint\n",
    "import requests\n",
    "from datetime import datetime, timedelta\n",
    "import time \n",
    "import collections \n",
    "import dateutil.parser\n",
    "import webbrowser\n",
    "\n",
    "#access to API\n",
    "key = 'ESClZEYkPOiIymPbcHCIe4pO7su9Ua2m'\n",
    "nyt = NYTAPI(key)\n",
    "\n",
    "#initialize variables\n",
    "start_date = \"\"\n",
    "end_date = \"\"\n",
    "book_list_name = \"\"\n",
    "isbn13_list = []\n",
    "isbn13_count = {}\n",
    "recommended_books = []\n",
    "current_date = \"\"\n",
    "number_recs = 0\n",
    "\n",
    "#simple function to validate user date inputs \n",
    "def is_valid_regex(num):\n",
    "    while type(num) == int:\n",
    "        print('Incorrect input. Please format as YYYY-MM-DD.')\n",
    "        num = pyip.inputNum(allowRegexes=[r'^\\d{4}\\-(0?[1-9]|1[012])\\-(0?[1-9]|[12][0-9]|3[01])$'])\n",
    "    return num\n",
    "\n",
    "def is_valid_date(x):\n",
    "    try:\n",
    "        dt = datetime.strptime(x,\"%Y-%m-%d\")\n",
    "        valid_datetime = dateutil.parser.parse(x)\n",
    "        return True\n",
    "    except ValueError: \n",
    "        return False\n",
    "\n",
    "#get start date, make sure it's a valid date\n",
    "print('What is your start date? Please format as YYYY-MM-DD and insert a date that is after 2011-02-06.')\n",
    "start_date = is_valid_regex(pyip.inputNum(allowRegexes=[r'^\\d{4}\\-(0?[1-9]|1[012])\\-(0?[1-9]|[12][0-9]|3[01])$']))\n",
    "\n",
    "while is_valid_date(start_date) == False:\n",
    "    print('That is not a valid date. Please try again.')\n",
    "    start_date = is_valid_regex(pyip.inputNum(allowRegexes=[r'^\\d{4}\\-(0?[1-9]|1[012])\\-(0?[1-9]|[12][0-9]|3[01])$']))\n",
    "\n",
    "#make sure date is not too far back\n",
    "while datetime.strptime(start_date, \"%Y-%m-%d\") <= datetime.strptime('2011-02-06',\"%Y-%m-%d\"):\n",
    "    print (\"Please enter a date after 2011-02-06. Try again.\")\n",
    "    start_date = is_valid_regex(pyip.inputNum(allowRegexes=[r'^\\d{4}\\-(0?[1-9]|1[012])\\-(0?[1-9]|[12][0-9]|3[01])$']))\n",
    "\n",
    "    if is_valid_date(start_date) == False:\n",
    "        print('That is not a valid date. Please try again.')\n",
    "        start_date = is_valid_regex(pyip.inputNum(allowRegexes=[r'^\\d{4}\\-(0?[1-9]|1[012])\\-(0?[1-9]|[12][0-9]|3[01])$']))\n",
    "    \n",
    "#get end date and make sure they do not enter a number b/c that triggers an error; check it is not in the future\n",
    "print('What is your end date? Please format as YYYY-MM-DD.')\n",
    "end_date = is_valid_regex(pyip.inputNum(allowRegexes=[r'^\\d{4}\\-(0?[1-9]|1[012])\\-(0?[1-9]|[12][0-9]|3[01])$']))\n",
    "\n",
    "while is_valid_date(end_date) == False:\n",
    "    print('That is not a valid date. Please try again.')\n",
    "    end_date = is_valid_regex(pyip.inputNum(allowRegexes=[r'^\\d{4}\\-(0?[1-9]|1[012])\\-(0?[1-9]|[12][0-9]|3[01])$']))\n",
    "\n",
    "while datetime.strptime(end_date, \"%Y-%m-%d\") > datetime.today():\n",
    "    print (\"Please do not enter a date in the future. Try again.\")\n",
    "    end_date = is_valid_regex(pyip.inputNum(allowRegexes=[r'^\\d{4}\\-(0?[1-9]|1[012])\\-(0?[1-9]|[12][0-9]|3[01])$']))\n",
    "    \n",
    "    while is_valid_date(end_date) == False:\n",
    "        print('That is not a valid date. Please try again.')\n",
    "        end_date = is_valid_regex(pyip.inputNum(allowRegexes=[r'^\\d{4}\\-(0?[1-9]|1[012])\\-(0?[1-9]|[12][0-9]|3[01])$']))\n",
    "\n",
    "#make sure start date is before end date\n",
    "while datetime.strptime(start_date,\"%Y-%m-%d\") > datetime.strptime(end_date,\"%Y-%m-%d\"):\n",
    "    print('Please enter an end date that is after the start date. Please format as YYYY-MM-DD.')\n",
    "    end_date = is_valid_regex(pyip.inputNum(allowRegexes=[r'^\\d{4}\\-(0?[1-9]|1[012])\\-(0?[1-9]|[12][0-9]|3[01])$']))\n",
    "    \n",
    "    while is_valid_date(end_date) == False:\n",
    "        print('That is not a valid date. Please try again.')\n",
    "        end_date = is_valid_regex(pyip.inputNum(allowRegexes=[r'^\\d{4}\\-(0?[1-9]|1[012])\\-(0?[1-9]|[12][0-9]|3[01])$']))\n",
    "\n",
    "#check what kind of books they would like \n",
    "print('What types of books would you like? Please indicate fiction or non-fiction')\n",
    "book_input = input()\n",
    "\n",
    "while True:\n",
    "    if book_input.lower() == \"fiction\":\n",
    "        book_list_name = \"fiction\"\n",
    "        break\n",
    "    elif book_input.lower() == \"non-fiction\" or book_input.lower()==\"nonfiction\":\n",
    "        book_list_name = \"nonfiction\"\n",
    "        break\n",
    "    else:\n",
    "        print('Please enter either fiction or non-fiction.')\n",
    "        book_input = input()\n",
    "\n",
    "#check how many books they want returned in rec list \n",
    "number_recs = pyip.inputNum('How many recommendations would you like? ', min=0)\n",
    "\n",
    "#get dates between start and end date into list \n",
    "current_date = datetime.strptime(start_date, \"%Y-%m-%d\")\n",
    "end_date = datetime.strptime(end_date, \"%Y-%m-%d\")\n",
    "while current_date <= end_date:\n",
    "    isbn13_list.append(str(current_date.strftime(\"%Y-%m-%d\")))\n",
    "    current_date += timedelta(days=7)"
   ]
  },
  {
   "cell_type": "code",
   "execution_count": 2,
   "metadata": {},
   "outputs": [],
   "source": [
    "#get isbn13s for all best sellers and put into a dictionary; count frequency of appearance week to week \n",
    "isbn13_count = {}\n",
    "\n",
    "for i in isbn13_list:\n",
    "    best_sellers = nyt.best_sellers_list(name = 'combined-print-and-e-book-' + book_list_name, date = datetime.strptime(i, '%Y-%m-%d' ))\n",
    "    y = 0\n",
    "    while y < len(best_sellers):\n",
    "        current = str(best_sellers[y]['title']) + \" \" + str(best_sellers[y]['buy_links'])\n",
    "        if current not in isbn13_count.keys():\n",
    "            isbn13_count[current]=1\n",
    "        else:\n",
    "            isbn13_count[current]+=1\n",
    "        #give API time to run \n",
    "        #time.sleep(2)\n",
    "        y += 1\n",
    "\n",
    "#sort by number of times the isbn13 appears in the dictionary \n",
    "ranked_isbn13 = collections.OrderedDict(isbn13_count)\n",
    "ranked_isbn13 = sorted(ranked_isbn13.items(), key = lambda x: x[1], reverse = True)"
   ]
  },
  {
   "cell_type": "code",
   "execution_count": 4,
   "metadata": {},
   "outputs": [
    {
     "name": "stdout",
     "output_type": "stream",
     "text": [
      "Your book recommendations are: \n",
      "\n",
      "Where The Crawdads Sing, appearing 24 times\n",
      "Little Fires Everywhere, appearing 15 times\n",
      "The Tattooist Of Auschwitz, appearing 13 times\n",
      "The Dutch House, appearing 13 times\n",
      "The Giver Of Stars, appearing 12 times\n",
      "-*-*-*-*-*-*-*-*-*-*-*-*-*-*-*-*-*-*-*-*-*-*-*-*-*-*-*-*-*-*-*-*-*-*-*-*-*-*-*-*\n",
      "\n",
      "-*-*-*-*-*-*-*-*-*-*-*-*-*-*-*-*-*-*-*-*-*-*-*-*-*-*-*-*-*-*-*-*-*-*-*-*-*-*-*-*\n",
      "\n",
      "Your final book list is:\n",
      "\n",
      "Where The Crawdads Sing, appearing 24 times\n",
      "Little Fires Everywhere, appearing 15 times\n",
      "The Tattooist Of Auschwitz, appearing 13 times\n",
      "The Dutch House, appearing 13 times\n",
      "The Giver Of Stars, appearing 12 times\n"
     ]
    }
   ],
   "source": [
    "print(\"Your book recommendations are: \\n\") \n",
    "count = 0 \n",
    "\n",
    "try:\n",
    "    while count < number_recs:\n",
    "        #title is going to be the first thing in the list, full string, split by \"[\", first element\n",
    "        title = ranked_isbn13[count][0].split('[')[0].title()\n",
    "        if ranked_isbn13[count][1] == 1:\n",
    "            print(title[:len(title)-1] + \", appearing \" + str(ranked_isbn13[count][1]) + \" time\")\n",
    "        else: \n",
    "            print(title[:len(title)-1] + \", appearing \" + str(ranked_isbn13[count][1]) + \" times\")\n",
    "        count += 1\n",
    "    \n",
    "    print('-*-*-*-*-*-*-*-*-*-*-*-*-*-*-*-*-*-*-*-*-*-*-*-*-*-*-*-*-*-*-*-*-*-*-*-*-*-*-*-*\\n')\n",
    "    #ask people if they want the next book IF that book appeared as many times as the last book on their recommended list \n",
    "    while ranked_isbn13[count-1][1] == ranked_isbn13[count][1]:\n",
    "        print(\"The next book appeared the same number of times as the last book on your recommendations list. Would you like to see it?\")\n",
    "        response = input()\n",
    "\n",
    "        #validate their input \n",
    "        while response.lower() != \"yes\" and response.lower() != \"no\":\n",
    "            print('Please respond either yes or no')\n",
    "            response = input()\n",
    "\n",
    "        #if they say they wanted another book\n",
    "        if response.lower() == \"yes\":\n",
    "            title = ranked_isbn13[count][0].split('[')[0].title()\n",
    "            if ranked_isbn13[count][1] == 1:\n",
    "                print(title[:len(title)-1] + \", appearing \" + str(ranked_isbn13[count][1]) + \" time\")\n",
    "            else: \n",
    "                print(title[:len(title)-1] + \", appearing \" + str(ranked_isbn13[count][1]) + \" times\")\n",
    "            count += 1\n",
    "        elif response.lower() == 'no':\n",
    "            break\n",
    "    \n",
    "except IndexError:\n",
    "    print(\"You have reached the end of the list!\\n\")\n",
    "\n",
    "print('-*-*-*-*-*-*-*-*-*-*-*-*-*-*-*-*-*-*-*-*-*-*-*-*-*-*-*-*-*-*-*-*-*-*-*-*-*-*-*-*\\n')\n",
    "print(\"Your final book list is:\\n\")\n",
    "\n",
    "recommended_books = []\n",
    "x = 0 \n",
    "while x < count:\n",
    "    #this is so brute forced...have to think of better way to do this next time\n",
    "    title = ranked_isbn13[x][0].split('[')[0].title()\n",
    "    links = ranked_isbn13[0][0].split('[')[1].split('] ')[0]\n",
    "    links = ranked_isbn13[0][0].split('[')[1].split('] ')[0]\n",
    "    current_entry = [title, links]\n",
    "    recommended_books.append(current_entry)\n",
    "    if ranked_isbn13[x][1] == 1:\n",
    "        print(title[:len(title)-1] + \", appearing \" + str(ranked_isbn13[x][1]) + \" time\")\n",
    "    else: \n",
    "        print(title[:len(title)-1] + \", appearing \" + str(ranked_isbn13[x][1]) + \" times\")\n",
    "    x+=1"
   ]
  },
  {
   "cell_type": "code",
   "execution_count": 5,
   "metadata": {},
   "outputs": [
    {
     "name": "stdout",
     "output_type": "stream",
     "text": [
      "Would you like to open links to purchase these books?\n"
     ]
    },
    {
     "name": "stdin",
     "output_type": "stream",
     "text": [
      " yes\n"
     ]
    },
    {
     "name": "stdout",
     "output_type": "stream",
     "text": [
      "How many links would you like to be opened? Please specify a number.\n"
     ]
    },
    {
     "name": "stdin",
     "output_type": "stream",
     "text": [
      " 2\n"
     ]
    }
   ],
   "source": [
    "print(\"Would you like to open links to purchase these books?\")\n",
    "\n",
    "response = str(input())\n",
    "\n",
    "#validate their input \n",
    "while response.lower() != \"yes\" and response.lower() != \"no\":\n",
    "    print('Please respond either yes or no')\n",
    "    response = input()\n",
    "\n",
    "if response.lower() == 'no':\n",
    "    print('Sounds good. Exiting now!')\n",
    "    \n",
    "elif response.lower() == 'yes':\n",
    "    print('How many links would you like to be opened? Please specify a number.')\n",
    "    print_books = pyip.inputNum()\n",
    "    \n",
    "    while int(print_books) > len(recommended_books):\n",
    "        print('You are only able to receive as many links are there are books on your recommended list. Please try again')\n",
    "        print_books = pyip.inputNum()\n",
    "\n",
    "    x = 0\n",
    "\n",
    "    while x < print_books:\n",
    "        links = ranked_isbn13[x][0].split('[')[1].split(']')[0]\n",
    "        separated = links.split(', ')\n",
    "        indie = separated[11]\n",
    "        indie_final = indie[8:len(indie)-2]\n",
    "        webbrowser.open(indie_final)\n",
    "        x+=1\n"
   ]
  }
 ],
 "metadata": {
  "kernelspec": {
   "display_name": ".venv",
   "language": "python",
   "name": ".venv"
  },
  "language_info": {
   "codemirror_mode": {
    "name": "ipython",
    "version": 3
   },
   "file_extension": ".py",
   "mimetype": "text/x-python",
   "name": "python",
   "nbconvert_exporter": "python",
   "pygments_lexer": "ipython3",
   "version": "3.7.7"
  }
 },
 "nbformat": 4,
 "nbformat_minor": 4
}
